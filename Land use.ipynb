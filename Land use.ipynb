{
 "cells": [
  {
   "cell_type": "markdown",
   "metadata": {
    "slideshow": {
     "slide_type": "slide"
    }
   },
   "source": [
    "# Retake exam: 20 June 2023\n",
    "\n",
    "## Topic of the exam: Understand top players of global land use and CO2 emissions \n",
    "\n",
    "Please ensure that you run each cell (ctrl+enter) so that your inputs are saved \n",
    "\n",
    "All questions have either coding cell or a text cell, or a combination of the two. \n",
    "\n",
    "You are allowed to create additional cells for each answer to facilitate your work  "
   ]
  },
  {
   "cell_type": "markdown",
   "metadata": {
    "slideshow": {
     "slide_type": "slide"
    }
   },
   "source": [
    "## Data preparation: Download and import exiobase"
   ]
  },
  {
   "cell_type": "markdown",
   "metadata": {},
   "source": [
    "Data to be used in the exam: **year 2019 product by product format**\n",
    "\n",
    "Population data to be downloaded together with the script\n",
    "\n",
    "Link to the data: https://zenodo.org/record/5589597"
   ]
  },
  {
   "cell_type": "code",
   "execution_count": 8,
   "metadata": {
    "slideshow": {
     "slide_type": "fragment"
    }
   },
   "outputs": [],
   "source": [
    "# Import modules\n",
    "import pandas as pd\n",
    "import numpy as np\n",
    "import matplotlib.pyplot as plt\n",
    "\n",
    "# Import MRIO variables\n",
    "path = \"data/IOT_2019_pxp/\" \n",
    "A = pd.read_csv(f'{path}A.txt', sep='\\t', index_col=[0, 1], header=[0, 1])\n",
    "Y = pd.read_csv(f'{path}Y.txt' , sep='\\t', index_col=[0, 1], header=[0, 1])\n",
    "\n",
    "# Import Impact accounts\n",
    "F_sat = pd.read_csv(f'{path}impacts/F.txt' , sep='\\t', index_col=[0], header=[0, 1])\n",
    "F_sat_hh = pd.read_csv(f'{path}impacts/F_Y.txt' , sep='\\t', index_col=[0], header=[0, 1])\n",
    "\n",
    "# Create labels\n",
    "A_labels = A.index.to_frame(index=None)\n",
    "\n",
    "region_labels = A_labels.region.drop_duplicates().reset_index(drop=True)\n",
    "sector_labels = A_labels.sector.drop_duplicates().reset_index(drop=True)\n",
    "\n",
    "r = region_labels.shape[0]\n",
    "s = sector_labels.shape[0]\n",
    "\n",
    "# Aggregate Y and F_hh by region\n",
    "Y_reg = Y.groupby(level=0, axis=1, sort=False).sum()\n",
    "F_sat_hh_reg = F_sat_hh.groupby(level=0, axis=1, sort=False).sum()\n",
    "\n",
    "# Aggregate Y and F_hh by final demand category\n",
    "Y_fd = Y.groupby(level=1, axis=1, sort=False).sum()\n",
    "F_sat_hh_fd = F_sat_hh.groupby(level=1, axis=1, sort=False).sum()"
   ]
  },
  {
   "cell_type": "code",
   "execution_count": 3,
   "metadata": {},
   "outputs": [],
   "source": [
    "#Calculate rest of MRIO variables\n",
    "I = np.identity(A.shape[0])\n",
    "L = np.linalg.inv(I-A)\n",
    "x = L @ Y.sum(axis=1)\n",
    "\n",
    "x_ = x.copy()\n",
    "x_[x_!=0] = 1/x_[x_!=0]\n",
    "inv_diag_x_ = np.diag(x_)"
   ]
  },
  {
   "cell_type": "markdown",
   "metadata": {
    "slideshow": {
     "slide_type": "slide"
    }
   },
   "source": [
    "## Question 1: Territorial accounting (10 points)"
   ]
  },
  {
   "cell_type": "markdown",
   "metadata": {
    "slideshow": {
     "slide_type": "fragment"
    }
   },
   "source": [
    "### Q1.1 Can you identify the top 3 countries with the highest per capita domestic land use in 2019? (10 points) \n",
    "\n",
    "Hint 1: use the environmental impact with keywords: \"Land use Crop, Forest, Pasture\"\n",
    "\n",
    "Hint 2: when loc returns a DataFrame instead of a Series you can use .squeeze() to obtain the Series"
   ]
  },
  {
   "cell_type": "code",
   "execution_count": 4,
   "metadata": {},
   "outputs": [],
   "source": [
    "#import population data\n",
    "population = pd.read_excel('data/EXIOBASE_PopulationGDP_1995_2019.xlsx',sheet_name='Population', index_col=[0, 1, 2])\n",
    "pop2019 = population.loc[:,\"y2019\"]"
   ]
  },
  {
   "cell_type": "code",
   "execution_count": 6,
   "metadata": {},
   "outputs": [
    {
     "data": {
      "text/plain": [
       "region\n",
       "US    994.906327\n",
       "CA    726.252900\n",
       "AU    651.702384\n",
       "dtype: float64"
      ]
     },
     "execution_count": 6,
     "metadata": {},
     "output_type": "execute_result"
    }
   ],
   "source": [
    "#land use extensions\n",
    "f_sat_land_use = F_sat[F_sat.index.str.contains(\"Land use Crop, Forest, Pasture\")].sum(axis=0)\n",
    "F_sat_hh_land_use = F_sat_hh[F_sat_hh.index.str.contains(\"Land use Crop, Forest, Pasture\")].sum(axis=0)\n",
    "\n",
    "F_sat_hh_land_use_reg = F_sat_hh_land_use.groupby(level=0, sort=False).sum()\n",
    "\n",
    "e_land_use_pba = np.diag(f_sat_land_use) @ x\n",
    "e_land_use_ter = e_land_use_pba.reshape(r,s).sum(1) + F_sat_hh_land_use_reg\n",
    "\n",
    "e_land_use_ter_pp = e_land_use_ter/pop2019.values\n",
    "\n",
    "e_land_use_ter_pp.nlargest(n=3)"
   ]
  },
  {
   "cell_type": "code",
   "execution_count": null,
   "metadata": {},
   "outputs": [],
   "source": []
  },
  {
   "cell_type": "markdown",
   "metadata": {},
   "source": [
    "## Question 2: Footprint analysis (10 points)"
   ]
  },
  {
   "cell_type": "markdown",
   "metadata": {},
   "source": [
    "### Q2.1 Which 3 regions had the highest per capita footprint of land use in 2019? (10 points)"
   ]
  },
  {
   "cell_type": "code",
   "execution_count": 9,
   "metadata": {},
   "outputs": [
    {
     "data": {
      "text/plain": [
       "region\n",
       "LU    1496.661642\n",
       "US     958.905948\n",
       "CA     630.142254\n",
       "dtype: float64"
      ]
     },
     "execution_count": 9,
     "metadata": {},
     "output_type": "execute_result"
    }
   ],
   "source": [
    "e_land_use_reg = f_sat_land_use @ L @ Y_reg + F_sat_hh_land_use_reg \n",
    "e_land_use_reg_pp = e_land_use_reg/pop2019.values\n",
    "e_land_use_reg_pp.nlargest(n=3)"
   ]
  },
  {
   "cell_type": "markdown",
   "metadata": {},
   "source": [
    "## Questions 3: Trade (15 points)"
   ]
  },
  {
   "cell_type": "markdown",
   "metadata": {},
   "source": [
    "### Q3.1: Were the regions found in Q1 and Q2 net importers or net exporter of per capita land use in 2019? (3 points)"
   ]
  },
  {
   "cell_type": "code",
   "execution_count": 22,
   "metadata": {},
   "outputs": [
    {
     "data": {
      "text/plain": [
       "region\n",
       "LU    1496.075170\n",
       "US     -36.000380\n",
       "CA     -96.110646\n",
       "AU    -282.396448\n",
       "dtype: float64"
      ]
     },
     "execution_count": 22,
     "metadata": {},
     "output_type": "execute_result"
    }
   ],
   "source": [
    "e_net_import = e_land_use_reg - e_land_use_ter\n",
    "e_net_import_pp_land_use = e_net_import/pop2019.values\n",
    "e_net_import_pp_land_use.loc[['LU', 'US', 'CA', 'AU']]"
   ]
  },
  {
   "cell_type": "markdown",
   "metadata": {},
   "source": [
    "_Write your answer here_"
   ]
  },
  {
   "cell_type": "markdown",
   "metadata": {},
   "source": [
    "### Q3.2: Taking into account all exiobase regions, perform MRIO calculations and identify the top three regions that were net per capita importers of land use in 2019 (12 points)"
   ]
  },
  {
   "cell_type": "code",
   "execution_count": 15,
   "metadata": {},
   "outputs": [
    {
     "data": {
      "text/plain": [
       "region\n",
       "LU    1496.661479\n",
       "US     958.904294\n",
       "CA     630.141450\n",
       "dtype: float64"
      ]
     },
     "execution_count": 15,
     "metadata": {},
     "output_type": "execute_result"
    }
   ],
   "source": [
    "E_land_use_=np.diag(f_sat_land_use) @ L @ Y_reg\n",
    "E_land_use_.index = Y.index\n",
    "\n",
    "E_land_use_top_3 = E_land_use_/pop2019.values\n",
    "E_land_use_top_3.sum().nlargest(n=3)"
   ]
  },
  {
   "cell_type": "markdown",
   "metadata": {},
   "source": [
    "## Question 4: Dashboard analysis - Land Use vs. CO2 emissions (25 points)"
   ]
  },
  {
   "cell_type": "markdown",
   "metadata": {},
   "source": [
    "### Q4.1 Identify global regions with the highest total land use and compare them to their CO2 emissions per capita and Land use per capita. (10 points)\n",
    "\n",
    "Hint 1: Replicate Qs 2-3 for CO2 emissions\n",
    "\n",
    "Hint 2: use the environmental extensions with keywords: \"CO2 - combustion - air\""
   ]
  },
  {
   "cell_type": "code",
   "execution_count": 18,
   "metadata": {},
   "outputs": [
    {
     "data": {
      "text/plain": [
       "region\n",
       "CN    3.370930e+06\n",
       "US    2.984331e+06\n",
       "DE    8.121814e+05\n",
       "dtype: float64"
      ]
     },
     "execution_count": 18,
     "metadata": {},
     "output_type": "execute_result"
    }
   ],
   "source": [
    "# Import Satellite accounts\n",
    "F_sat = pd.read_csv(f'{path}satellite/F.txt' , sep='\\t', index_col=[0], header=[0, 1])\n",
    "F_sat_hh = pd.read_csv(f'{path}satellite/F_Y.txt' , sep='\\t', index_col=[0], header=[0, 1])\n",
    "\n",
    "#countreis with highest per capita domestic CO2 consumption\n",
    "f_sat_CO2 = F_sat[F_sat.index.str.contains(\"CO2 - combustion - air\")].sum(axis=0)\n",
    "F_sat_hh_CO2 = F_sat_hh[F_sat_hh.index.str.contains(\"CO2 - combustion - air\")].sum(axis=0)\n",
    "\n",
    "F_sat_hh_CO2_reg = F_sat_hh_CO2.groupby(level=0, sort=False).sum()\n",
    "\n",
    "e_CO2_pba = np.diag(f_sat_CO2) @ x\n",
    "e_CO2_ter = e_CO2_pba.reshape(r,s).sum(1) + F_sat_hh_CO2_reg\n",
    "\n",
    "e_CO2_ter_pp = e_CO2_ter/pop2019.values/1000\n",
    "\n",
    "e_CO2_ter_pp.nlargest(n=3)\n"
   ]
  },
  {
   "cell_type": "code",
   "execution_count": 19,
   "metadata": {},
   "outputs": [
    {
     "data": {
      "text/plain": [
       "region\n",
       "US    3311.151864\n",
       "CN    2702.206876\n",
       "IE    1574.333156\n",
       "dtype: float64"
      ]
     },
     "execution_count": 19,
     "metadata": {},
     "output_type": "execute_result"
    }
   ],
   "source": [
    "#3 countries with higest per capita footprint\n",
    "e_CO2_reg = f_sat_CO2 @ L @ Y_reg + F_sat_hh_CO2_reg\n",
    "e_CO2_reg_pp = e_CO2_reg/pop2019.values/1000000\n",
    "e_CO2_reg_pp.nlargest(n=3)"
   ]
  },
  {
   "cell_type": "code",
   "execution_count": 20,
   "metadata": {},
   "outputs": [
    {
     "data": {
      "text/plain": [
       "region\n",
       "CN   -6.687232e+08\n",
       "US    3.268209e+08\n",
       "DE    3.117986e+08\n",
       "IE    1.465121e+09\n",
       "dtype: float64"
      ]
     },
     "execution_count": 20,
     "metadata": {},
     "output_type": "execute_result"
    }
   ],
   "source": [
    "#trade net importer or not\n",
    "e_net_import_CO2 = e_CO2_reg - e_CO2_ter\n",
    "e_net_import_pp_CO2 = e_net_import_CO2/pop2019.values\n",
    "e_net_import_pp_CO2.loc[[\"CN\", \"US\", \"DE\", \"IE\"]]"
   ]
  },
  {
   "cell_type": "code",
   "execution_count": 21,
   "metadata": {},
   "outputs": [
    {
     "data": {
      "text/plain": [
       "region\n",
       "US    3311.147833\n",
       "CN    2702.206327\n",
       "IE    1574.331909\n",
       "dtype: float64"
      ]
     },
     "execution_count": 21,
     "metadata": {},
     "output_type": "execute_result"
    }
   ],
   "source": [
    "E_CO2 = np.diag(f_sat_CO2) @ L @ Y_reg\n",
    "E_CO2.index = Y.index\n",
    "\n",
    "E_CO2_top = E_CO2/pop2019.values/1000000\n",
    "E_CO2_top.sum().nlargest(n=3)"
   ]
  },
  {
   "cell_type": "markdown",
   "metadata": {},
   "source": [
    "### Q4.2 Focusing on the two indicators, describe three significantly different findings about the main land use players of the world (15 points)\n",
    "\n",
    "The description for each finding should:\n",
    "\n",
    "1) be supported by numerical results you obtained from above calculations and based on comparisons of numerical results; \n",
    "\n",
    "2) contain your reflections about the land use stress and problems worldwide\n"
   ]
  },
  {
   "cell_type": "markdown",
   "metadata": {},
   "source": [
    "_write your answer here_"
   ]
  }
 ],
 "metadata": {
  "celltoolbar": "Slideshow",
  "kernelspec": {
   "display_name": "Python 3 (ipykernel)",
   "language": "python",
   "name": "python3"
  },
  "language_info": {
   "codemirror_mode": {
    "name": "ipython",
    "version": 3
   },
   "file_extension": ".py",
   "mimetype": "text/x-python",
   "name": "python",
   "nbconvert_exporter": "python",
   "pygments_lexer": "ipython3",
   "version": "3.11.5"
  }
 },
 "nbformat": 4,
 "nbformat_minor": 4
}
