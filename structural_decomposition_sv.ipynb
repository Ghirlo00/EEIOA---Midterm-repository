{
 "cells": [
  {
   "attachments": {},
   "cell_type": "markdown",
   "metadata": {
    "slideshow": {
     "slide_type": "slide"
    }
   },
   "source": [
    "# Practical 11: Structural decomposition analysis\n",
    "\n",
    "Objectives\n",
    "- Construct different SDA methods in Python\n",
    "- Reproduce the SDA examples on page 348-351 of Miller & Blair\n",
    "- Reproduce output of table 8.1 on page 351 of Miller & Blair"
   ]
  },
  {
   "cell_type": "code",
   "execution_count": null,
   "metadata": {
    "slideshow": {
     "slide_type": "slide"
    }
   },
   "outputs": [],
   "source": [
    "# Import packages\n",
    "import numpy as np\n",
    "import pandas as pd"
   ]
  },
  {
   "attachments": {},
   "cell_type": "markdown",
   "metadata": {
    "slideshow": {
     "slide_type": "slide"
    }
   },
   "source": [
    "## Exercise 1: Construct the SDA"
   ]
  },
  {
   "attachments": {},
   "cell_type": "markdown",
   "metadata": {
    "slideshow": {
     "slide_type": "subslide"
    }
   },
   "source": [
    "### 1.1 Define input data for baseline"
   ]
  },
  {
   "cell_type": "code",
   "execution_count": null,
   "metadata": {},
   "outputs": [],
   "source": [
    "# t=0 transaction matrix and final demand vector\n",
    "Z_0 = pd.DataFrame([\n",
    "    [10, 20, 25],\n",
    "    [15, 5, 30],\n",
    "    [30, 40, 5]\n",
    "])\n",
    "\n",
    "y_0 = pd.Series([45,30,25])"
   ]
  },
  {
   "attachments": {},
   "cell_type": "markdown",
   "metadata": {},
   "source": [
    "### 1.2 Define input data for delta"
   ]
  },
  {
   "cell_type": "code",
   "execution_count": null,
   "metadata": {},
   "outputs": [],
   "source": [
    "# t=1 transaction matrix and final demand vector\n",
    "\n",
    "Z_1 = pd.DataFrame([\n",
    "    [12, 15, 35],\n",
    "    [24, 11, 30],\n",
    "    [36, 50, 8]\n",
    "])\n",
    "\n",
    "y_1 = pd.Series([50,35,26])"
   ]
  },
  {
   "attachments": {},
   "cell_type": "markdown",
   "metadata": {
    "slideshow": {
     "slide_type": "subslide"
    }
   },
   "source": [
    "### 1.3 Calculate total requirements matrix"
   ]
  },
  {
   "cell_type": "code",
   "execution_count": null,
   "metadata": {
    "slideshow": {
     "slide_type": "fragment"
    }
   },
   "outputs": [],
   "source": [
    "# t=0 Baseline year\n",
    "\n",
    "x_0 = None\n",
    "A_0 = None\n",
    "L_0 = None"
   ]
  },
  {
   "cell_type": "code",
   "execution_count": null,
   "metadata": {},
   "outputs": [],
   "source": [
    "# t=1 next year\n",
    "\n",
    "x_1 = None\n",
    "A_1 = None\n",
    "L_1 = None"
   ]
  },
  {
   "attachments": {},
   "cell_type": "markdown",
   "metadata": {
    "slideshow": {
     "slide_type": "subslide"
    }
   },
   "source": [
    "### 1.4 Calculate your deltas for the decomposition"
   ]
  },
  {
   "attachments": {},
   "cell_type": "markdown",
   "metadata": {},
   "source": [
    "#### 1.4.1 Change in total requirement matrix"
   ]
  },
  {
   "cell_type": "code",
   "execution_count": null,
   "metadata": {},
   "outputs": [],
   "source": [
    "L_delta = None"
   ]
  },
  {
   "attachments": {},
   "cell_type": "markdown",
   "metadata": {},
   "source": [
    "#### 1.4.2 Change in final demand"
   ]
  },
  {
   "cell_type": "code",
   "execution_count": null,
   "metadata": {},
   "outputs": [],
   "source": [
    "y_delta = None"
   ]
  },
  {
   "attachments": {},
   "cell_type": "markdown",
   "metadata": {},
   "source": [
    "#### 1.4.3 Change in total output to be used as check"
   ]
  },
  {
   "cell_type": "code",
   "execution_count": null,
   "metadata": {},
   "outputs": [],
   "source": [
    "x_delta = None"
   ]
  },
  {
   "attachments": {},
   "cell_type": "markdown",
   "metadata": {},
   "source": [
    "### 1.5 Decomposition\n",
    "\n",
    "All input data for our SDA is now complete.\n",
    "\n",
    "Start decomposing the effect of technology change and final demand change on the total output. \n",
    "\n",
    "A two factor decomposition."
   ]
  },
  {
   "attachments": {},
   "cell_type": "markdown",
   "metadata": {},
   "source": [
    "#### 1.5.1 Decomposition (eq 8.3)"
   ]
  },
  {
   "cell_type": "code",
   "execution_count": null,
   "metadata": {},
   "outputs": [],
   "source": [
    "tech_change = None\n",
    "y_change = None"
   ]
  },
  {
   "cell_type": "code",
   "execution_count": null,
   "metadata": {},
   "outputs": [],
   "source": [
    "# Check if result is complete\n",
    "\n",
    "tot_change = None\n",
    "check = None\n",
    "\n",
    "if np.isclose(check, np.zeros(check.shape), atol=1E-6).all():\n",
    "    print('Decomposition correct')\n",
    "else:\n",
    "    print('ERROR - check your decomposition')"
   ]
  },
  {
   "cell_type": "code",
   "execution_count": null,
   "metadata": {},
   "outputs": [],
   "source": [
    "# Organize the labels for the table in which you will store your results\n",
    "sectors = None\n",
    "columns = None\n",
    "\n",
    "# create a dataframe where you will store your intermediary results\n",
    "step = None\n",
    "\n",
    "# add results to your dataframe\n",
    "\n",
    "# Add the row of total\n",
    "\n",
    "# Add the index labels\n",
    "\n",
    "\n",
    "step"
   ]
  },
  {
   "cell_type": "code",
   "execution_count": null,
   "metadata": {},
   "outputs": [],
   "source": [
    "# Make a copy of step that you will call results \n",
    "# and which you can use as a basis to assemble all results\n",
    "results = None\n",
    "results"
   ]
  },
  {
   "attachments": {},
   "cell_type": "markdown",
   "metadata": {},
   "source": [
    "#### 1.5.2 Decomposition (eq 8.4)"
   ]
  },
  {
   "cell_type": "code",
   "execution_count": null,
   "metadata": {},
   "outputs": [],
   "source": [
    "tech_change = None\n",
    "y_change = None"
   ]
  },
  {
   "cell_type": "code",
   "execution_count": null,
   "metadata": {},
   "outputs": [],
   "source": [
    "# check if our result is complete\n",
    "tot_change = None\n",
    "\n",
    "check = None\n",
    "\n",
    "if np.isclose(check, np.zeros(check.shape), atol=1E-6).all():\n",
    "    print('Decomposition correct')\n",
    "else:\n",
    "    print('ERROR - check your decomposition')\n"
   ]
  },
  {
   "cell_type": "code",
   "execution_count": null,
   "metadata": {},
   "outputs": [],
   "source": [
    "# create a dataframe where you will store your intermediary results\n",
    "step = None\n",
    "\n",
    "# add results to your dataframe\n",
    "\n",
    "# Add the row of total\n",
    "\n",
    "# Add the index labels\n",
    "\n",
    "\n",
    "step"
   ]
  },
  {
   "cell_type": "code",
   "execution_count": null,
   "metadata": {},
   "outputs": [],
   "source": [
    "# Concatenate your results\n",
    "results = None\n",
    "results"
   ]
  },
  {
   "attachments": {},
   "cell_type": "markdown",
   "metadata": {},
   "source": [
    "#### 1.5.3 Decomposition (eq 8.5)"
   ]
  },
  {
   "cell_type": "code",
   "execution_count": null,
   "metadata": {},
   "outputs": [],
   "source": [
    "tech_change = None\n",
    "y_change = None\n",
    "interaction = None"
   ]
  },
  {
   "cell_type": "code",
   "execution_count": null,
   "metadata": {},
   "outputs": [],
   "source": [
    "# check if our result is complete\n",
    "tot_change = None\n",
    "\n",
    "check = None\n",
    "\n",
    "if np.isclose(check, np.zeros(check.shape), atol=1E-6).all():\n",
    "    print('Decomposition correct')\n",
    "else:\n",
    "    print('ERROR - check your decomposition')\n"
   ]
  },
  {
   "cell_type": "code",
   "execution_count": null,
   "metadata": {},
   "outputs": [],
   "source": [
    "# create a dataframe where you will store your intermediary results\n",
    "step = None\n",
    "\n",
    "# add results to your dataframe\n",
    "\n",
    "# Add the row of total\n",
    "\n",
    "# Add the index labels\n",
    "\n",
    "\n",
    "step"
   ]
  },
  {
   "cell_type": "code",
   "execution_count": null,
   "metadata": {},
   "outputs": [],
   "source": [
    "# Concatenate your results\n",
    "results = None\n",
    "results"
   ]
  },
  {
   "attachments": {},
   "cell_type": "markdown",
   "metadata": {},
   "source": [
    "#### 1.5.4 Decomposition (eq 8.6)"
   ]
  },
  {
   "cell_type": "code",
   "execution_count": null,
   "metadata": {},
   "outputs": [],
   "source": [
    "tech_change = None\n",
    "y_change = None\n",
    "interaction = None"
   ]
  },
  {
   "cell_type": "code",
   "execution_count": null,
   "metadata": {},
   "outputs": [],
   "source": [
    "# check if our result is complete\n",
    "tot_change = None\n",
    "check = None\n",
    "\n",
    "if np.isclose(check, np.zeros(check.shape), atol=1E-6).all():\n",
    "    print('Decomposition correct')\n",
    "else:\n",
    "    print('ERROR - check your decomposition')"
   ]
  },
  {
   "cell_type": "code",
   "execution_count": null,
   "metadata": {},
   "outputs": [],
   "source": [
    "# create a dataframe where you will store your intermediary results\n",
    "step = None\n",
    "\n",
    "# add results to your dataframe\n",
    "\n",
    "# Add the row of total\n",
    "\n",
    "# Add the index labels\n",
    "\n",
    "\n",
    "step"
   ]
  },
  {
   "cell_type": "code",
   "execution_count": null,
   "metadata": {},
   "outputs": [],
   "source": [
    "# Concatenate your results\n",
    "results = None\n",
    "results"
   ]
  },
  {
   "attachments": {},
   "cell_type": "markdown",
   "metadata": {},
   "source": [
    "#### 1.5.5 Decomposition (eq 8.7)"
   ]
  },
  {
   "cell_type": "code",
   "execution_count": null,
   "metadata": {},
   "outputs": [],
   "source": [
    "tech_change = None\n",
    "y_change = None"
   ]
  },
  {
   "cell_type": "code",
   "execution_count": null,
   "metadata": {},
   "outputs": [],
   "source": [
    "# check if our result is complete\n",
    "tot_change = None\n",
    "check = None\n",
    "\n",
    "if np.isclose(check, np.zeros(check.shape), atol=1E-6).all():\n",
    "    print('Decomposition correct')\n",
    "else:\n",
    "    print('ERROR - check your decomposition')"
   ]
  },
  {
   "cell_type": "code",
   "execution_count": null,
   "metadata": {},
   "outputs": [],
   "source": [
    "# create a dataframe where you will store your intermediary results\n",
    "step = None\n",
    "\n",
    "# add results to your dataframe\n",
    "\n",
    "# Add the row of total\n",
    "\n",
    "# Add the index labels\n",
    "\n",
    "\n",
    "step"
   ]
  },
  {
   "attachments": {},
   "cell_type": "markdown",
   "metadata": {},
   "source": [
    "### 1.6 Output table 8.1"
   ]
  },
  {
   "cell_type": "code",
   "execution_count": null,
   "metadata": {},
   "outputs": [],
   "source": [
    "# Concatenate your results\n",
    "results = None\n",
    "results"
   ]
  }
 ],
 "metadata": {
  "celltoolbar": "Slideshow",
  "kernelspec": {
   "display_name": "Python 3 (ipykernel)",
   "language": "python",
   "name": "python3"
  },
  "language_info": {
   "codemirror_mode": {
    "name": "ipython",
    "version": 3
   },
   "file_extension": ".py",
   "mimetype": "text/x-python",
   "name": "python",
   "nbconvert_exporter": "python",
   "pygments_lexer": "ipython3",
   "version": "3.9.16"
  }
 },
 "nbformat": 4,
 "nbformat_minor": 2
}
